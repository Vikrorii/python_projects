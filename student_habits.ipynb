{
 "cells": [
  {
   "cell_type": "code",
   "execution_count": null,
   "id": "0bbc538a",
   "metadata": {},
   "outputs": [
    {
     "name": "stdout",
     "output_type": "stream",
     "text": [
      "Відібрано 40 випадкових записів.\n"
     ]
    }
   ],
   "source": [
    "import pandas as pd\n",
    "import numpy as np\n",
    "from scipy.stats import shapiro, f_oneway, kruskal, wilcoxon, mannwhitneyu\n",
    "from statsmodels.stats.multicomp import pairwise_tukeyhsd\n",
    "from statsmodels.formula.api import ols\n",
    "from statsmodels.stats.anova import anova_lm\n",
    "import matplotlib.pyplot as plt\n",
    "import seaborn as sns\n",
    "\n",
    "#наші дані\n",
    "path = \"student_habits_performance.csv\"\n",
    "df = pd.read_csv(path)\n",
    "\n",
    "#40\n",
    "if len(df) > 40:\n",
    "    df = df.sample(n=40, random_state=42).reset_index(drop=True)\n",
    "    print(f\"Відібрано 40 випадкових записів.\")"
   ]
  },
  {
   "cell_type": "code",
   "execution_count": 45,
   "id": "4aebbb81",
   "metadata": {},
   "outputs": [
    {
     "name": "stdout",
     "output_type": "stream",
     "text": [
      "\n",
      "Тест=0.969, p-value=0.346\n",
      "Розподіл нормальний(не відхиляємо H0).\n"
     ]
    }
   ],
   "source": [
    "#Перевірка нормальності розподілу \n",
    "stat, p = shapiro(df['exam_score'])\n",
    "print(f\"\\nТест={stat:.3f}, p-value={p:.3f}\")\n",
    "if p > 0.05:\n",
    "    print(\"Розподіл нормальний(не відхиляємо H0).\")\n",
    "else:\n",
    "    print(\"Розподіл не нормальний(відхиляємо H0).\")\n"
   ]
  },
  {
   "cell_type": "code",
   "execution_count": 46,
   "id": "e4e24b43",
   "metadata": {},
   "outputs": [
    {
     "name": "stdout",
     "output_type": "stream",
     "text": [
      "\n",
      "Для gender: F=0.03, p-value=0.868\n",
      "Для part_time_job: F=1.10, p-value=0.302\n"
     ]
    }
   ],
   "source": [
    "#Однофакторний за Стьюдента(для нормальних даних)\n",
    "if p > 0.05:\n",
    "    #Однофакторний для gender\n",
    "    gender_groups = [df[df['gender'] == g]['exam_score'] for g in df['gender'].unique()]\n",
    "    f_val_gender, p_val_gender = f_oneway(*gender_groups)\n",
    "    print(f\"\\nДля gender: F={f_val_gender:.2f}, p-value={p_val_gender:.3f}\")\n",
    "\n",
    "    #Однофакторний для part_time_job\n",
    "    job_groups = [df[df['part_time_job'] == j]['exam_score'] for j in df['part_time_job'].unique()]\n",
    "    f_val_job, p_val_job = f_oneway(*job_groups)\n",
    "    print(f\"Для part_time_job: F={f_val_job:.2f}, p-value={p_val_job:.3f}\")\n"
   ]
  },
  {
   "cell_type": "code",
   "execution_count": 47,
   "id": "24f255d8",
   "metadata": {},
   "outputs": [
    {
     "name": "stdout",
     "output_type": "stream",
     "text": [
      "\n",
      "Крускал-Валліс для gender: H=0.01, p-value=0.924\n",
      "Крускал-Валліс для part_time_job: H=1.16, p-value=0.282\n"
     ]
    }
   ],
   "source": [
    "#Непараметричний тест Крускала-Валліса для gender\n",
    "if df['gender'].nunique() > 1:\n",
    "    gender_groups = [df[df['gender'] == g]['exam_score'] for g in df['gender'].unique()]\n",
    "    stat_gender, p_gender = kruskal(*gender_groups)\n",
    "    print(f\"\\nКрускал-Валліс для gender: H={stat_gender:.2f}, p-value={p_gender:.3f}\")\n",
    "\n",
    "#Непараметричний тест Крускала-Валліса для part_time_job\n",
    "if df['part_time_job'].nunique() > 1:\n",
    "    job_groups = [df[df['part_time_job'] == j]['exam_score'] for j in df['part_time_job'].unique()]\n",
    "    stat_job, p_job = kruskal(*job_groups)\n",
    "    print(f\"Крускал-Валліс для part_time_job: H={stat_job:.2f}, p-value={p_job:.3f}\")\n"
   ]
  },
  {
   "cell_type": "code",
   "execution_count": 48,
   "id": "83de8995",
   "metadata": {},
   "outputs": [
    {
     "name": "stdout",
     "output_type": "stream",
     "text": [
      "\n",
      "Манна-Уітні для gender: U=199.00, p-value=0.935\n",
      "Манна-Уітні для part_time_job: U=226.00, p-value=0.288\n"
     ]
    }
   ],
   "source": [
    "#Манна-Уітні для попарного аналізу\n",
    "if df['gender'].nunique() == 2:\n",
    "    g1, g2 = df['gender'].unique()\n",
    "    group1 = df[df['gender'] == g1]['exam_score']\n",
    "    group2 = df[df['gender'] == g2]['exam_score']\n",
    "    u_stat, p_mw = mannwhitneyu(group1, group2)\n",
    "    print(f\"\\nМанна-Уітні для gender: U={u_stat:.2f}, p-value={p_mw:.3f}\")\n",
    "\n",
    "if df['part_time_job'].nunique() == 2:\n",
    "    j1, j2 = df['part_time_job'].unique()\n",
    "    group1 = df[df['part_time_job'] == j1]['exam_score']\n",
    "    group2 = df[df['part_time_job'] == j2]['exam_score']\n",
    "    u_stat, p_mw = mannwhitneyu(group1, group2)\n",
    "    print(f\"Манна-Уітні для part_time_job: U={u_stat:.2f}, p-value={p_mw:.3f}\")\n"
   ]
  },
  {
   "cell_type": "code",
   "execution_count": 28,
   "id": "47803e1b",
   "metadata": {},
   "outputs": [
    {
     "name": "stdout",
     "output_type": "stream",
     "text": [
      "\n",
      "Критерій Вілкоксона:\n",
      "Statistic=0.00, p-value=0.000\n",
      "Різниця між до і після статистично значуща.\n"
     ]
    }
   ],
   "source": [
    "column_before = 'exam_score'  \n",
    "if column_before in df_before.columns:\n",
    "    # Генеруємо дані для після\n",
    "    df_after = df_before[column_before] * np.random.randint(1, 6, size=len(df_before))\n",
    "    df_paired = pd.DataFrame({\n",
    "        'exam_score_before': df_before[column_before],\n",
    "        'exam_score_after': df_after\n",
    "    })\n",
    "\n",
    "    # Видаляємо рядки з відсутніми значеннями\n",
    "    df_paired = df_paired.dropna()\n",
    "    # Виконуємо Вілкоксонів тест\n",
    "    stat_w, p_w = wilcoxon(df_paired['exam_score_before'], df_paired['exam_score_after'])\n",
    "\n",
    "    print(f\"\\nКритерій Вілкоксона:\")\n",
    "    print(f\"Statistic={stat_w:.2f}, p-value={p_w:.3f}\")\n",
    "\n",
    "    if p_w < 0.05:\n",
    "        print(\"Різниця між до і після статистично значуща.\")\n",
    "    else:\n",
    "        print(\"Різниця між до і після не є статистично значущою.\")\n",
    "\n",
    "else:\n",
    "    print(\"ERROR\")\n"
   ]
  },
  {
   "cell_type": "code",
   "execution_count": 49,
   "id": "1f073427",
   "metadata": {},
   "outputs": [
    {
     "name": "stdout",
     "output_type": "stream",
     "text": [
      "\n",
      "Результати порівняння за параметричними та непараметричними тестами:\n",
      "Для gender: параметричний тест - p-value=0.868\n",
      "Для part_time_job: параметричний тест - p-value=0.302\n",
      "Для gender: непараметричний тест Крускала-Валліса - p-value=0.924\n",
      "Для part_time_job: непараметричний тест Крускала-Валліса - p-value=0.282\n",
      "\n",
      "Тест Вілкоксона (до/після) - p-value=0.000\n"
     ]
    }
   ],
   "source": [
    "# Порівняння результатів\n",
    "print(\"\\nРезультати порівняння за параметричними та непараметричними тестами:\")\n",
    "\n",
    "# Параметричний тест(критерій Стьюдента)\n",
    "if p > 0.05:\n",
    "    print(f\"Для gender: параметричний тест - p-value={p_val_gender:.3f}\")\n",
    "    print(f\"Для part_time_job: параметричний тест - p-value={p_val_job:.3f}\")\n",
    "\n",
    "# Непараметричний тест(Крускал-Валліс)\n",
    "print(f\"Для gender: непараметричний тест Крускала-Валліса - p-value={p_gender:.3f}\")\n",
    "print(f\"Для part_time_job: непараметричний тест Крускала-Валліса - p-value={p_job:.3f}\")\n",
    "\n",
    "# Тест Вілкоксона для парних вибірок\n",
    "print(f\"\\nТест Вілкоксона (до/після) - p-value={p_w:.3f}\")\n",
    "\n",
    "# Висновки\n",
    "if p_val_gender < 0.05 and p_gender < 0.05 and p_w < 0.05:\n",
    "    print(\"\\nВисновок:Обидва тести(параметричний, непараметричний та Вілкоксон) показали статистично значущу різницю.\")\n",
    "elif p_val_gender >= 0.05 and p_gender >= 0.05 and p_w >= 0.05:\n",
    "    print(\"\\nВисновок:Обидва тести не виявили статистично значущої різниці.\")\n",
    "elif p_val_gender < 0.05 and p_gender >= 0.05 and p_w < 0.05:\n",
    "    print(\"\\nВисновок:Параметричний тест та тест Вілкоксона показали значущу різницю, а непараметричний не виявив.\")\n",
    "elif p_val_gender >= 0.05 and p_gender < 0.05 and p_w < 0.05:\n",
    "    print(\"\\nВисновок:Непараметричний тест та тест Вілкоксона показали значущу різницю, а параметричний не виявив.\")\n"
   ]
  },
  {
   "cell_type": "code",
   "execution_count": 50,
   "id": "144184e0",
   "metadata": {},
   "outputs": [
    {
     "name": "stdout",
     "output_type": "stream",
     "text": [
      "\n",
      "Висновок:Тест Вілкоксона показав статистично значущу різницю між групами до і після.\n"
     ]
    }
   ],
   "source": [
    "# Висновки для тесту Вілкоксона\n",
    "if p_w < 0.05:\n",
    "    print(f\"\\nВисновок:Тест Вілкоксона показав статистично значущу різницю між групами до і після.\")\n",
    "else:\n",
    "    print(f\"\\nВисновок:Тест Вілкоксона не виявив статистично значущої різниці між групами до і після\")\n"
   ]
  },
  {
   "cell_type": "code",
   "execution_count": 52,
   "id": "372c2136",
   "metadata": {},
   "outputs": [
    {
     "name": "stdout",
     "output_type": "stream",
     "text": [
      "Для gender: параметричний тест - p-value=0.868\n",
      "Для part_time_job: параметричний тес - p-value=0.302\n",
      "Для gender: непараметричний тест Крускала-Валліса - p-value=0.924\n",
      "Для part_time_job: непараметричний тест Крускала-Валліса - p-value=0.282\n",
      "\n",
      "Для парних даних(до і після): тест Вілкоксона - p-value=0.000\n",
      "\n",
      "Висновок:Обидва тести не виявили статистично значущої різниці за gender.\n",
      "Висновок:Тест Вілкоксона показав статистично значущу різницю між результатами до і після.\n"
     ]
    }
   ],
   "source": [
    "#Параметричний тест(критерій Стьюдента)\n",
    "if p > 0.05:\n",
    "    print(f\"Для gender: параметричний тест - p-value={p_val_gender:.3f}\")\n",
    "    print(f\"Для part_time_job: параметричний тес - p-value={p_val_job:.3f}\")\n",
    "#Непараметричний тест(Крускал-Валліс)\n",
    "print(f\"Для gender: непараметричний тест Крускала-Валліса - p-value={p_gender:.3f}\")\n",
    "print(f\"Для part_time_job: непараметричний тест Крускала-Валліса - p-value={p_job:.3f}\")\n",
    "\n",
    "#Тест Вілкоксона для порівняння до і після\n",
    "print(f\"\\nДля парних даних(до і після): тест Вілкоксона - p-value={p_w:.3f}\")\n",
    "\n",
    "#Висновки \n",
    "if p_val_gender < 0.05 and p_gender < 0.05:\n",
    "    print(\"\\nВисновок: Обидва(ANOVA і Крускал-Валліс) показали статистично значущу різницю за gender.\")\n",
    "elif p_val_gender >= 0.05 and p_gender >= 0.05:\n",
    "    print(\"\\nВисновок:Обидва тести не виявили статистично значущої різниці за gender.\")\n",
    "elif p_val_gender < 0.05 and p_gender >= 0.05:\n",
    "    print(\"\\nВисновок:Параметричний тест виявив значущу різницю, а непараметричний — ні.\")\n",
    "elif p_val_gender >= 0.05 and p_gender < 0.05:\n",
    "    print(\"\\nВисновок:Непараметричний тест виявив значущу різницю, а параметричний — ні.\")\n",
    "\n",
    "#Висновок \n",
    "if p_w < 0.05:\n",
    "    print(\"Висновок:Тест Вілкоксона показав статистично значущу різницю між результатами до і після.\")\n",
    "else:\n",
    "    print(\"Висновок:Тест Вілкоксона не показав статистично значущої різниці між результатами до і після.\")\n"
   ]
  },
  {
   "cell_type": "markdown",
   "id": "6eba8af4",
   "metadata": {},
   "source": [
    "<h1>Ми ознайомитись із групою непараметричних критеріїв: Вілкоксона, Манна-Уітні, Крускала-Валліса.<h1><h1>Незалежно від обраного критерію, суттєвого впливу gender або part_time_job на оцінки не виявлено.<h1>\n",
    "<h1>Залежна група виявила різницю(адже вони помножені на 1-5 і дійсно різні)<h1>\n",
    "\n"
   ]
  }
 ],
 "metadata": {
  "kernelspec": {
   "display_name": ".venv",
   "language": "python",
   "name": "python3"
  },
  "language_info": {
   "codemirror_mode": {
    "name": "ipython",
    "version": 3
   },
   "file_extension": ".py",
   "mimetype": "text/x-python",
   "name": "python",
   "nbconvert_exporter": "python",
   "pygments_lexer": "ipython3",
   "version": "3.13.2"
  }
 },
 "nbformat": 4,
 "nbformat_minor": 5
}
